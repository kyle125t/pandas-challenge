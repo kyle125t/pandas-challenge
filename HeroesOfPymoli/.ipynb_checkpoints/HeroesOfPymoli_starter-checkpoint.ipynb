{
 "cells": [
  {
   "cell_type": "markdown",
   "metadata": {},
   "source": [
    "### Note\n",
    "* Instructions have been included for each segment. You do not have to follow them exactly, but they are included to help you think through the steps."
   ]
  },
  {
   "cell_type": "code",
   "execution_count": 2,
   "metadata": {},
   "outputs": [
    {
     "data": {
      "text/html": [
       "<div>\n",
       "<style scoped>\n",
       "    .dataframe tbody tr th:only-of-type {\n",
       "        vertical-align: middle;\n",
       "    }\n",
       "\n",
       "    .dataframe tbody tr th {\n",
       "        vertical-align: top;\n",
       "    }\n",
       "\n",
       "    .dataframe thead th {\n",
       "        text-align: right;\n",
       "    }\n",
       "</style>\n",
       "<table border=\"1\" class=\"dataframe\">\n",
       "  <thead>\n",
       "    <tr style=\"text-align: right;\">\n",
       "      <th></th>\n",
       "      <th>Purchase ID</th>\n",
       "      <th>SN</th>\n",
       "      <th>Age</th>\n",
       "      <th>Gender</th>\n",
       "      <th>Item ID</th>\n",
       "      <th>Item Name</th>\n",
       "      <th>Price</th>\n",
       "    </tr>\n",
       "  </thead>\n",
       "  <tbody>\n",
       "    <tr>\n",
       "      <th>0</th>\n",
       "      <td>0</td>\n",
       "      <td>Lisim78</td>\n",
       "      <td>20</td>\n",
       "      <td>Male</td>\n",
       "      <td>108</td>\n",
       "      <td>Extraction, Quickblade Of Trembling Hands</td>\n",
       "      <td>3.53</td>\n",
       "    </tr>\n",
       "    <tr>\n",
       "      <th>1</th>\n",
       "      <td>1</td>\n",
       "      <td>Lisovynya38</td>\n",
       "      <td>40</td>\n",
       "      <td>Male</td>\n",
       "      <td>143</td>\n",
       "      <td>Frenzied Scimitar</td>\n",
       "      <td>1.56</td>\n",
       "    </tr>\n",
       "    <tr>\n",
       "      <th>2</th>\n",
       "      <td>2</td>\n",
       "      <td>Ithergue48</td>\n",
       "      <td>24</td>\n",
       "      <td>Male</td>\n",
       "      <td>92</td>\n",
       "      <td>Final Critic</td>\n",
       "      <td>4.88</td>\n",
       "    </tr>\n",
       "    <tr>\n",
       "      <th>3</th>\n",
       "      <td>3</td>\n",
       "      <td>Chamassasya86</td>\n",
       "      <td>24</td>\n",
       "      <td>Male</td>\n",
       "      <td>100</td>\n",
       "      <td>Blindscythe</td>\n",
       "      <td>3.27</td>\n",
       "    </tr>\n",
       "    <tr>\n",
       "      <th>4</th>\n",
       "      <td>4</td>\n",
       "      <td>Iskosia90</td>\n",
       "      <td>23</td>\n",
       "      <td>Male</td>\n",
       "      <td>131</td>\n",
       "      <td>Fury</td>\n",
       "      <td>1.44</td>\n",
       "    </tr>\n",
       "  </tbody>\n",
       "</table>\n",
       "</div>"
      ],
      "text/plain": [
       "   Purchase ID             SN  Age Gender  Item ID  \\\n",
       "0            0        Lisim78   20   Male      108   \n",
       "1            1    Lisovynya38   40   Male      143   \n",
       "2            2     Ithergue48   24   Male       92   \n",
       "3            3  Chamassasya86   24   Male      100   \n",
       "4            4      Iskosia90   23   Male      131   \n",
       "\n",
       "                                   Item Name  Price  \n",
       "0  Extraction, Quickblade Of Trembling Hands   3.53  \n",
       "1                          Frenzied Scimitar   1.56  \n",
       "2                               Final Critic   4.88  \n",
       "3                                Blindscythe   3.27  \n",
       "4                                       Fury   1.44  "
      ]
     },
     "execution_count": 2,
     "metadata": {},
     "output_type": "execute_result"
    }
   ],
   "source": [
    "# Dependencies and Setup\n",
    "import pandas as pd\n",
    "\n",
    "# File to Load (Remember to Change These)\n",
    "file_to_load = \"Resources/purchase_data.csv\"\n",
    "\n",
    "# Read Purchasing File and store into Pandas data frame\n",
    "purchase_data = pd.read_csv(file_to_load)\n",
    "purchase_data.head()"
   ]
  },
  {
   "cell_type": "markdown",
   "metadata": {},
   "source": [
    "## Player Count"
   ]
  },
  {
   "cell_type": "markdown",
   "metadata": {},
   "source": [
    "* Display the total number of players\n"
   ]
  },
  {
   "cell_type": "code",
   "execution_count": 3,
   "metadata": {},
   "outputs": [
    {
     "data": {
      "text/html": [
       "<div>\n",
       "<style scoped>\n",
       "    .dataframe tbody tr th:only-of-type {\n",
       "        vertical-align: middle;\n",
       "    }\n",
       "\n",
       "    .dataframe tbody tr th {\n",
       "        vertical-align: top;\n",
       "    }\n",
       "\n",
       "    .dataframe thead th {\n",
       "        text-align: right;\n",
       "    }\n",
       "</style>\n",
       "<table border=\"1\" class=\"dataframe\">\n",
       "  <thead>\n",
       "    <tr style=\"text-align: right;\">\n",
       "      <th></th>\n",
       "      <th>Total Players</th>\n",
       "    </tr>\n",
       "  </thead>\n",
       "  <tbody>\n",
       "    <tr>\n",
       "      <th>0</th>\n",
       "      <td>576</td>\n",
       "    </tr>\n",
       "  </tbody>\n",
       "</table>\n",
       "</div>"
      ],
      "text/plain": [
       "   Total Players\n",
       "0            576"
      ]
     },
     "execution_count": 3,
     "metadata": {},
     "output_type": "execute_result"
    }
   ],
   "source": [
    "# Counts the invidiual values listed in SN to determine the amount of players\n",
    "# Then creates a simple DataFrame using the newly defined variable\n",
    "total_players = len(purchase_data[\"SN\"].value_counts())\n",
    "player_count = pd.DataFrame({\"Total Players\":[total_players]})\n",
    "player_count\n",
    "\n",
    "\n"
   ]
  },
  {
   "cell_type": "markdown",
   "metadata": {},
   "source": [
    "## Purchasing Analysis (Total)"
   ]
  },
  {
   "cell_type": "markdown",
   "metadata": {},
   "source": [
    "* Run basic calculations to obtain number of unique items, average price, etc.\n",
    "\n",
    "\n",
    "* Create a summary data frame to hold the results\n",
    "\n",
    "\n",
    "* Optional: give the displayed data cleaner formatting\n",
    "\n",
    "\n",
    "* Display the summary data frame\n"
   ]
  },
  {
   "cell_type": "code",
   "execution_count": 4,
   "metadata": {
    "scrolled": true
   },
   "outputs": [
    {
     "data": {
      "text/html": [
       "<style  type=\"text/css\" >\n",
       "</style><table id=\"T_6fc62863_35de_11eb_88bc_00d861c6eed9\" ><thead>    <tr>        <th class=\"blank level0\" ></th>        <th class=\"col_heading level0 col0\" >Number of Unique Items</th>        <th class=\"col_heading level0 col1\" >Average Price</th>        <th class=\"col_heading level0 col2\" >Number of Purchases</th>        <th class=\"col_heading level0 col3\" >Total Revenue</th>    </tr></thead><tbody>\n",
       "                <tr>\n",
       "                        <th id=\"T_6fc62863_35de_11eb_88bc_00d861c6eed9level0_row0\" class=\"row_heading level0 row0\" >0</th>\n",
       "                        <td id=\"T_6fc62863_35de_11eb_88bc_00d861c6eed9row0_col0\" class=\"data row0 col0\" >179</td>\n",
       "                        <td id=\"T_6fc62863_35de_11eb_88bc_00d861c6eed9row0_col1\" class=\"data row0 col1\" >$3.05</td>\n",
       "                        <td id=\"T_6fc62863_35de_11eb_88bc_00d861c6eed9row0_col2\" class=\"data row0 col2\" >780</td>\n",
       "                        <td id=\"T_6fc62863_35de_11eb_88bc_00d861c6eed9row0_col3\" class=\"data row0 col3\" >$2379.77</td>\n",
       "            </tr>\n",
       "    </tbody></table>"
      ],
      "text/plain": [
       "<pandas.io.formats.style.Styler at 0x213f7737790>"
      ]
     },
     "execution_count": 4,
     "metadata": {},
     "output_type": "execute_result"
    }
   ],
   "source": [
    "# Define a variable to hold the unique items\n",
    "unique_items = len(purchase_data[\"Item ID\"].unique())\n",
    "# Define a variable for average purchase price\n",
    "avg_purchase_price = purchase_data[\"Price\"].mean()\n",
    "# Define a variable for total purchase count\n",
    "total_purchases = purchase_data[\"Purchase ID\"].count()\n",
    "# Define a variable for total revenue\n",
    "total_revenue = purchase_data[\"Price\"].sum()\n",
    "\n",
    "purchasing_analysis = pd.DataFrame({\"Number of Unique Items\": [unique_items],\n",
    "                                    \"Average Price\": [avg_purchase_price],\n",
    "                                    \"Number of Purchases\": [total_purchases],\n",
    "                                    \"Total Revenue\": [total_revenue]})\n",
    "# Styling of the data in columns to show currency formatting\n",
    "purchasing_analysis.style.format({\"Average Price\": \"${:.2f}\",\n",
    "                                 \"Total Revenue\": \"${:.2f}\"})"
   ]
  },
  {
   "cell_type": "markdown",
   "metadata": {},
   "source": [
    "## Gender Demographics"
   ]
  },
  {
   "cell_type": "markdown",
   "metadata": {},
   "source": [
    "* Percentage and Count of Male Players\n",
    "\n",
    "\n",
    "* Percentage and Count of Female Players\n",
    "\n",
    "\n",
    "* Percentage and Count of Other / Non-Disclosed\n",
    "\n",
    "\n"
   ]
  },
  {
   "cell_type": "code",
   "execution_count": 5,
   "metadata": {},
   "outputs": [
    {
     "data": {
      "text/html": [
       "<style  type=\"text/css\" >\n",
       "</style><table id=\"T_6fcd7d3d_35de_11eb_938f_00d861c6eed9\" ><thead>    <tr>        <th class=\"blank level0\" ></th>        <th class=\"col_heading level0 col0\" >Percentage of Players</th>        <th class=\"col_heading level0 col1\" >Total Count</th>    </tr></thead><tbody>\n",
       "                <tr>\n",
       "                        <th id=\"T_6fcd7d3d_35de_11eb_938f_00d861c6eed9level0_row0\" class=\"row_heading level0 row0\" >Male</th>\n",
       "                        <td id=\"T_6fcd7d3d_35de_11eb_938f_00d861c6eed9row0_col0\" class=\"data row0 col0\" >84.03%</td>\n",
       "                        <td id=\"T_6fcd7d3d_35de_11eb_938f_00d861c6eed9row0_col1\" class=\"data row0 col1\" >484</td>\n",
       "            </tr>\n",
       "            <tr>\n",
       "                        <th id=\"T_6fcd7d3d_35de_11eb_938f_00d861c6eed9level0_row1\" class=\"row_heading level0 row1\" >Female</th>\n",
       "                        <td id=\"T_6fcd7d3d_35de_11eb_938f_00d861c6eed9row1_col0\" class=\"data row1 col0\" >14.06%</td>\n",
       "                        <td id=\"T_6fcd7d3d_35de_11eb_938f_00d861c6eed9row1_col1\" class=\"data row1 col1\" >81</td>\n",
       "            </tr>\n",
       "            <tr>\n",
       "                        <th id=\"T_6fcd7d3d_35de_11eb_938f_00d861c6eed9level0_row2\" class=\"row_heading level0 row2\" >Other / Non-Disclosed</th>\n",
       "                        <td id=\"T_6fcd7d3d_35de_11eb_938f_00d861c6eed9row2_col0\" class=\"data row2 col0\" >1.91%</td>\n",
       "                        <td id=\"T_6fcd7d3d_35de_11eb_938f_00d861c6eed9row2_col1\" class=\"data row2 col1\" >11</td>\n",
       "            </tr>\n",
       "    </tbody></table>"
      ],
      "text/plain": [
       "<pandas.io.formats.style.Styler at 0x213f9874b50>"
      ]
     },
     "execution_count": 5,
     "metadata": {},
     "output_type": "execute_result"
    }
   ],
   "source": [
    "# Use groupby for gender info\n",
    "gender_df = purchase_data.groupby(\"Gender\")\n",
    "# Count users to allow for percentage\n",
    "total_gen_ct = gender_df.nunique()[\"SN\"]\n",
    "gender_pct = total_gen_ct / total_players *100\n",
    "# Create demographic DataFrame\n",
    "gender_demo = pd.DataFrame({\"Percentage of Players\": gender_pct,\n",
    "                                   \"Total Count\": total_gen_ct})\n",
    "# Remove index to match example\n",
    "gender_demo.index.name = None\n",
    "# Sort from high to low based on Percentage of Players\n",
    "# Style the data in columns to show percentages\n",
    "gender_demo.sort_values(\"Percentage of Players\", ascending = False).style.format({\"Percentage of Players\":\"{:.2f}%\"})\n",
    "\n"
   ]
  },
  {
   "cell_type": "markdown",
   "metadata": {},
   "source": [
    "\n",
    "## Purchasing Analysis (Gender)"
   ]
  },
  {
   "cell_type": "markdown",
   "metadata": {},
   "source": [
    "* Run basic calculations to obtain purchase count, avg. purchase price, avg. purchase total per person etc. by gender\n",
    "\n",
    "\n",
    "\n",
    "\n",
    "* Create a summary data frame to hold the results\n",
    "\n",
    "\n",
    "* Optional: give the displayed data cleaner formatting\n",
    "\n",
    "\n",
    "* Display the summary data frame"
   ]
  },
  {
   "cell_type": "code",
   "execution_count": 6,
   "metadata": {},
   "outputs": [
    {
     "data": {
      "text/html": [
       "<style  type=\"text/css\" >\n",
       "</style><table id=\"T_70726ccc_35de_11eb_9622_00d861c6eed9\" ><thead>    <tr>        <th class=\"blank level0\" ></th>        <th class=\"col_heading level0 col0\" >Purchase Count</th>        <th class=\"col_heading level0 col1\" >Average Purchase Price</th>        <th class=\"col_heading level0 col2\" >Average Purchase Total</th>    </tr></thead><tbody>\n",
       "                <tr>\n",
       "                        <th id=\"T_70726ccc_35de_11eb_9622_00d861c6eed9level0_row0\" class=\"row_heading level0 row0\" >Male</th>\n",
       "                        <td id=\"T_70726ccc_35de_11eb_9622_00d861c6eed9row0_col0\" class=\"data row0 col0\" >652</td>\n",
       "                        <td id=\"T_70726ccc_35de_11eb_9622_00d861c6eed9row0_col1\" class=\"data row0 col1\" >$3.02</td>\n",
       "                        <td id=\"T_70726ccc_35de_11eb_9622_00d861c6eed9row0_col2\" class=\"data row0 col2\" >$1967.64</td>\n",
       "            </tr>\n",
       "            <tr>\n",
       "                        <th id=\"T_70726ccc_35de_11eb_9622_00d861c6eed9level0_row1\" class=\"row_heading level0 row1\" >Female</th>\n",
       "                        <td id=\"T_70726ccc_35de_11eb_9622_00d861c6eed9row1_col0\" class=\"data row1 col0\" >113</td>\n",
       "                        <td id=\"T_70726ccc_35de_11eb_9622_00d861c6eed9row1_col1\" class=\"data row1 col1\" >$3.20</td>\n",
       "                        <td id=\"T_70726ccc_35de_11eb_9622_00d861c6eed9row1_col2\" class=\"data row1 col2\" >$361.94</td>\n",
       "            </tr>\n",
       "            <tr>\n",
       "                        <th id=\"T_70726ccc_35de_11eb_9622_00d861c6eed9level0_row2\" class=\"row_heading level0 row2\" >Other / Non-Disclosed</th>\n",
       "                        <td id=\"T_70726ccc_35de_11eb_9622_00d861c6eed9row2_col0\" class=\"data row2 col0\" >15</td>\n",
       "                        <td id=\"T_70726ccc_35de_11eb_9622_00d861c6eed9row2_col1\" class=\"data row2 col1\" >$3.35</td>\n",
       "                        <td id=\"T_70726ccc_35de_11eb_9622_00d861c6eed9row2_col2\" class=\"data row2 col2\" >$50.19</td>\n",
       "            </tr>\n",
       "    </tbody></table>"
      ],
      "text/plain": [
       "<pandas.io.formats.style.Styler at 0x213f9874850>"
      ]
     },
     "execution_count": 6,
     "metadata": {},
     "output_type": "execute_result"
    }
   ],
   "source": [
    "# Set variables related to purchase count, average price, and average total from group Gender list\n",
    "pur_count = gender_df[\"SN\"].count()\n",
    "avg_price = gender_df[\"Price\"].mean()\n",
    "pur_total = gender_df[\"Price\"].sum()\n",
    "\n",
    "# Create Purhcase Analysis DataFrame\n",
    "pur_analysis = pd.DataFrame({\"Purchase Count\": pur_count,\n",
    "                            \"Average Purchase Price\": avg_price,\n",
    "                            \"Average Purchase Total\": pur_total})\n",
    "# Sort by Purchase Count\n",
    "# Style the data in columns to show currency values\n",
    "pur_analysis.sort_values(\"Purchase Count\", ascending=False).style.format({\"Average Purchase Price\":\"${:.2f}\",\n",
    "                           \"Average Purchase Total\":\"${:.2f}\"})"
   ]
  },
  {
   "cell_type": "markdown",
   "metadata": {},
   "source": [
    "## Age Demographics"
   ]
  },
  {
   "cell_type": "markdown",
   "metadata": {},
   "source": [
    "* Establish bins for ages\n",
    "\n",
    "\n",
    "* Categorize the existing players using the age bins. Hint: use pd.cut()\n",
    "\n",
    "\n",
    "* Calculate the numbers and percentages by age group\n",
    "\n",
    "\n",
    "* Create a summary data frame to hold the results\n",
    "\n",
    "\n",
    "* Optional: round the percentage column to two decimal points\n",
    "\n",
    "\n",
    "* Display Age Demographics Table\n"
   ]
  },
  {
   "cell_type": "code",
   "execution_count": 7,
   "metadata": {},
   "outputs": [
    {
     "data": {
      "text/html": [
       "<style  type=\"text/css\" >\n",
       "</style><table id=\"T_714392f6_35de_11eb_b4ec_00d861c6eed9\" ><thead>    <tr>        <th class=\"blank level0\" ></th>        <th class=\"col_heading level0 col0\" >Total Count</th>        <th class=\"col_heading level0 col1\" >Percentage of Players</th>    </tr></thead><tbody>\n",
       "                <tr>\n",
       "                        <th id=\"T_714392f6_35de_11eb_b4ec_00d861c6eed9level0_row0\" class=\"row_heading level0 row0\" ><10</th>\n",
       "                        <td id=\"T_714392f6_35de_11eb_b4ec_00d861c6eed9row0_col0\" class=\"data row0 col0\" >24</td>\n",
       "                        <td id=\"T_714392f6_35de_11eb_b4ec_00d861c6eed9row0_col1\" class=\"data row0 col1\" >4.17%</td>\n",
       "            </tr>\n",
       "            <tr>\n",
       "                        <th id=\"T_714392f6_35de_11eb_b4ec_00d861c6eed9level0_row1\" class=\"row_heading level0 row1\" >10-14</th>\n",
       "                        <td id=\"T_714392f6_35de_11eb_b4ec_00d861c6eed9row1_col0\" class=\"data row1 col0\" >41</td>\n",
       "                        <td id=\"T_714392f6_35de_11eb_b4ec_00d861c6eed9row1_col1\" class=\"data row1 col1\" >7.12%</td>\n",
       "            </tr>\n",
       "            <tr>\n",
       "                        <th id=\"T_714392f6_35de_11eb_b4ec_00d861c6eed9level0_row2\" class=\"row_heading level0 row2\" >15-19</th>\n",
       "                        <td id=\"T_714392f6_35de_11eb_b4ec_00d861c6eed9row2_col0\" class=\"data row2 col0\" >150</td>\n",
       "                        <td id=\"T_714392f6_35de_11eb_b4ec_00d861c6eed9row2_col1\" class=\"data row2 col1\" >26.04%</td>\n",
       "            </tr>\n",
       "            <tr>\n",
       "                        <th id=\"T_714392f6_35de_11eb_b4ec_00d861c6eed9level0_row3\" class=\"row_heading level0 row3\" >20-24</th>\n",
       "                        <td id=\"T_714392f6_35de_11eb_b4ec_00d861c6eed9row3_col0\" class=\"data row3 col0\" >232</td>\n",
       "                        <td id=\"T_714392f6_35de_11eb_b4ec_00d861c6eed9row3_col1\" class=\"data row3 col1\" >40.28%</td>\n",
       "            </tr>\n",
       "            <tr>\n",
       "                        <th id=\"T_714392f6_35de_11eb_b4ec_00d861c6eed9level0_row4\" class=\"row_heading level0 row4\" >25-29</th>\n",
       "                        <td id=\"T_714392f6_35de_11eb_b4ec_00d861c6eed9row4_col0\" class=\"data row4 col0\" >59</td>\n",
       "                        <td id=\"T_714392f6_35de_11eb_b4ec_00d861c6eed9row4_col1\" class=\"data row4 col1\" >10.24%</td>\n",
       "            </tr>\n",
       "            <tr>\n",
       "                        <th id=\"T_714392f6_35de_11eb_b4ec_00d861c6eed9level0_row5\" class=\"row_heading level0 row5\" >30-34</th>\n",
       "                        <td id=\"T_714392f6_35de_11eb_b4ec_00d861c6eed9row5_col0\" class=\"data row5 col0\" >37</td>\n",
       "                        <td id=\"T_714392f6_35de_11eb_b4ec_00d861c6eed9row5_col1\" class=\"data row5 col1\" >6.42%</td>\n",
       "            </tr>\n",
       "            <tr>\n",
       "                        <th id=\"T_714392f6_35de_11eb_b4ec_00d861c6eed9level0_row6\" class=\"row_heading level0 row6\" >35-39</th>\n",
       "                        <td id=\"T_714392f6_35de_11eb_b4ec_00d861c6eed9row6_col0\" class=\"data row6 col0\" >26</td>\n",
       "                        <td id=\"T_714392f6_35de_11eb_b4ec_00d861c6eed9row6_col1\" class=\"data row6 col1\" >4.51%</td>\n",
       "            </tr>\n",
       "            <tr>\n",
       "                        <th id=\"T_714392f6_35de_11eb_b4ec_00d861c6eed9level0_row7\" class=\"row_heading level0 row7\" >40+</th>\n",
       "                        <td id=\"T_714392f6_35de_11eb_b4ec_00d861c6eed9row7_col0\" class=\"data row7 col0\" >7</td>\n",
       "                        <td id=\"T_714392f6_35de_11eb_b4ec_00d861c6eed9row7_col1\" class=\"data row7 col1\" >1.22%</td>\n",
       "            </tr>\n",
       "    </tbody></table>"
      ],
      "text/plain": [
       "<pandas.io.formats.style.Styler at 0x213fa88ebe0>"
      ]
     },
     "execution_count": 7,
     "metadata": {},
     "output_type": "execute_result"
    }
   ],
   "source": [
    "# Create bins for the defined age groups\n",
    "bins = [0, 10, 15, 20, 25, 30, 35, 40, 100]\n",
    "groups = [\"<10\", \"10-14\", \"15-19\", \"20-24\", \"25-29\", \"30-34\", \"35-39\", \"40+\"]\n",
    "# Use pd.cut() to take values from \"Age\" and put them into bins in a new column \"Age Demographic\"\n",
    "purchase_data[\"Age Demographic\"] = pd.cut(purchase_data[\"Age\"], bins, labels=groups)\n",
    "# Create a new data frame of the new column grouped, sorted by bin, and define percentage\n",
    "age_group = purchase_data.groupby(\"Age Demographic\")\n",
    "demo_counts = age_group.nunique()[\"SN\"]\n",
    "demo_pct = ((demo_counts / total_players) * 100)\n",
    "age_demo = pd.DataFrame({\"Total Count\":demo_counts,\n",
    "                        \"Percentage of Players\":demo_pct})\n",
    "# Remove index label\n",
    "age_demo.index.name = None\n",
    "# Round \"Percentage...\" column and display %\n",
    "age_demo.style.format({\"Percentage of Players\":\"{:.2f}%\"})"
   ]
  },
  {
   "cell_type": "markdown",
   "metadata": {},
   "source": [
    "## Purchasing Analysis (Age)"
   ]
  },
  {
   "cell_type": "markdown",
   "metadata": {},
   "source": [
    "* Bin the purchase_data data frame by age\n",
    "\n",
    "\n",
    "* Run basic calculations to obtain purchase count, avg. purchase price, avg. purchase total per person etc. in the table below\n",
    "\n",
    "\n",
    "* Create a summary data frame to hold the results\n",
    "\n",
    "\n",
    "* Optional: give the displayed data cleaner formatting\n",
    "\n",
    "\n",
    "* Display the summary data frame"
   ]
  },
  {
   "cell_type": "code",
   "execution_count": 8,
   "metadata": {},
   "outputs": [
    {
     "data": {
      "text/html": [
       "<style  type=\"text/css\" >\n",
       "</style><table id=\"T_7207e502_35de_11eb_87e8_00d861c6eed9\" ><thead>    <tr>        <th class=\"blank level0\" ></th>        <th class=\"col_heading level0 col0\" >Purchase Count</th>        <th class=\"col_heading level0 col1\" >Average Purchase Price</th>        <th class=\"col_heading level0 col2\" >Total Purchase Value</th>        <th class=\"col_heading level0 col3\" >Purchase Total Per Person</th>    </tr></thead><tbody>\n",
       "                <tr>\n",
       "                        <th id=\"T_7207e502_35de_11eb_87e8_00d861c6eed9level0_row0\" class=\"row_heading level0 row0\" ><10</th>\n",
       "                        <td id=\"T_7207e502_35de_11eb_87e8_00d861c6eed9row0_col0\" class=\"data row0 col0\" >32</td>\n",
       "                        <td id=\"T_7207e502_35de_11eb_87e8_00d861c6eed9row0_col1\" class=\"data row0 col1\" >$3.40</td>\n",
       "                        <td id=\"T_7207e502_35de_11eb_87e8_00d861c6eed9row0_col2\" class=\"data row0 col2\" >$108.96</td>\n",
       "                        <td id=\"T_7207e502_35de_11eb_87e8_00d861c6eed9row0_col3\" class=\"data row0 col3\" >$4.54</td>\n",
       "            </tr>\n",
       "            <tr>\n",
       "                        <th id=\"T_7207e502_35de_11eb_87e8_00d861c6eed9level0_row1\" class=\"row_heading level0 row1\" >10-14</th>\n",
       "                        <td id=\"T_7207e502_35de_11eb_87e8_00d861c6eed9row1_col0\" class=\"data row1 col0\" >54</td>\n",
       "                        <td id=\"T_7207e502_35de_11eb_87e8_00d861c6eed9row1_col1\" class=\"data row1 col1\" >$2.90</td>\n",
       "                        <td id=\"T_7207e502_35de_11eb_87e8_00d861c6eed9row1_col2\" class=\"data row1 col2\" >$156.60</td>\n",
       "                        <td id=\"T_7207e502_35de_11eb_87e8_00d861c6eed9row1_col3\" class=\"data row1 col3\" >$3.82</td>\n",
       "            </tr>\n",
       "            <tr>\n",
       "                        <th id=\"T_7207e502_35de_11eb_87e8_00d861c6eed9level0_row2\" class=\"row_heading level0 row2\" >15-19</th>\n",
       "                        <td id=\"T_7207e502_35de_11eb_87e8_00d861c6eed9row2_col0\" class=\"data row2 col0\" >200</td>\n",
       "                        <td id=\"T_7207e502_35de_11eb_87e8_00d861c6eed9row2_col1\" class=\"data row2 col1\" >$3.11</td>\n",
       "                        <td id=\"T_7207e502_35de_11eb_87e8_00d861c6eed9row2_col2\" class=\"data row2 col2\" >$621.56</td>\n",
       "                        <td id=\"T_7207e502_35de_11eb_87e8_00d861c6eed9row2_col3\" class=\"data row2 col3\" >$4.14</td>\n",
       "            </tr>\n",
       "            <tr>\n",
       "                        <th id=\"T_7207e502_35de_11eb_87e8_00d861c6eed9level0_row3\" class=\"row_heading level0 row3\" >20-24</th>\n",
       "                        <td id=\"T_7207e502_35de_11eb_87e8_00d861c6eed9row3_col0\" class=\"data row3 col0\" >325</td>\n",
       "                        <td id=\"T_7207e502_35de_11eb_87e8_00d861c6eed9row3_col1\" class=\"data row3 col1\" >$3.02</td>\n",
       "                        <td id=\"T_7207e502_35de_11eb_87e8_00d861c6eed9row3_col2\" class=\"data row3 col2\" >$981.64</td>\n",
       "                        <td id=\"T_7207e502_35de_11eb_87e8_00d861c6eed9row3_col3\" class=\"data row3 col3\" >$4.23</td>\n",
       "            </tr>\n",
       "            <tr>\n",
       "                        <th id=\"T_7207e502_35de_11eb_87e8_00d861c6eed9level0_row4\" class=\"row_heading level0 row4\" >25-29</th>\n",
       "                        <td id=\"T_7207e502_35de_11eb_87e8_00d861c6eed9row4_col0\" class=\"data row4 col0\" >77</td>\n",
       "                        <td id=\"T_7207e502_35de_11eb_87e8_00d861c6eed9row4_col1\" class=\"data row4 col1\" >$2.88</td>\n",
       "                        <td id=\"T_7207e502_35de_11eb_87e8_00d861c6eed9row4_col2\" class=\"data row4 col2\" >$221.42</td>\n",
       "                        <td id=\"T_7207e502_35de_11eb_87e8_00d861c6eed9row4_col3\" class=\"data row4 col3\" >$3.75</td>\n",
       "            </tr>\n",
       "            <tr>\n",
       "                        <th id=\"T_7207e502_35de_11eb_87e8_00d861c6eed9level0_row5\" class=\"row_heading level0 row5\" >30-34</th>\n",
       "                        <td id=\"T_7207e502_35de_11eb_87e8_00d861c6eed9row5_col0\" class=\"data row5 col0\" >52</td>\n",
       "                        <td id=\"T_7207e502_35de_11eb_87e8_00d861c6eed9row5_col1\" class=\"data row5 col1\" >$2.99</td>\n",
       "                        <td id=\"T_7207e502_35de_11eb_87e8_00d861c6eed9row5_col2\" class=\"data row5 col2\" >$155.71</td>\n",
       "                        <td id=\"T_7207e502_35de_11eb_87e8_00d861c6eed9row5_col3\" class=\"data row5 col3\" >$4.21</td>\n",
       "            </tr>\n",
       "            <tr>\n",
       "                        <th id=\"T_7207e502_35de_11eb_87e8_00d861c6eed9level0_row6\" class=\"row_heading level0 row6\" >35-39</th>\n",
       "                        <td id=\"T_7207e502_35de_11eb_87e8_00d861c6eed9row6_col0\" class=\"data row6 col0\" >33</td>\n",
       "                        <td id=\"T_7207e502_35de_11eb_87e8_00d861c6eed9row6_col1\" class=\"data row6 col1\" >$3.40</td>\n",
       "                        <td id=\"T_7207e502_35de_11eb_87e8_00d861c6eed9row6_col2\" class=\"data row6 col2\" >$112.35</td>\n",
       "                        <td id=\"T_7207e502_35de_11eb_87e8_00d861c6eed9row6_col3\" class=\"data row6 col3\" >$4.32</td>\n",
       "            </tr>\n",
       "            <tr>\n",
       "                        <th id=\"T_7207e502_35de_11eb_87e8_00d861c6eed9level0_row7\" class=\"row_heading level0 row7\" >40+</th>\n",
       "                        <td id=\"T_7207e502_35de_11eb_87e8_00d861c6eed9row7_col0\" class=\"data row7 col0\" >7</td>\n",
       "                        <td id=\"T_7207e502_35de_11eb_87e8_00d861c6eed9row7_col1\" class=\"data row7 col1\" >$3.08</td>\n",
       "                        <td id=\"T_7207e502_35de_11eb_87e8_00d861c6eed9row7_col2\" class=\"data row7 col2\" >$21.53</td>\n",
       "                        <td id=\"T_7207e502_35de_11eb_87e8_00d861c6eed9row7_col3\" class=\"data row7 col3\" >$3.08</td>\n",
       "            </tr>\n",
       "    </tbody></table>"
      ],
      "text/plain": [
       "<pandas.io.formats.style.Styler at 0x213fa8e8640>"
      ]
     },
     "execution_count": 8,
     "metadata": {},
     "output_type": "execute_result"
    }
   ],
   "source": [
    "# All of these methods are similar to those listed above\n",
    "age_pur_count = age_group[\"Age\"].count()\n",
    "avg_age_price = age_group[\"Price\"].mean()\n",
    "age_total_pur = age_group[\"Price\"].sum()\n",
    "avg_total_per = (age_total_pur / demo_counts)\n",
    "# Create Age Analysis DataFrame\n",
    "analysis_age = pd.DataFrame({\"Purchase Count\": age_pur_count,\n",
    "                            \"Average Purchase Price\": avg_age_price,\n",
    "                            \"Total Purchase Value\": age_total_pur,\n",
    "                            \"Purchase Total Per Person\": avg_total_per})\n",
    "# Style the data in columns to show currency values\n",
    "analysis_age.style.format({\"Average Purchase Price\": \"${:.2f}\",\n",
    "                          \"Total Purchase Value\":\"${:.2f}\",\n",
    "                          \"Purchase Total Per Person\":\"${:.2f}\"})"
   ]
  },
  {
   "cell_type": "markdown",
   "metadata": {},
   "source": [
    "## Top Spenders"
   ]
  },
  {
   "cell_type": "markdown",
   "metadata": {},
   "source": [
    "* Run basic calculations to obtain the results in the table below\n",
    "\n",
    "\n",
    "* Create a summary data frame to hold the results\n",
    "\n",
    "\n",
    "* Sort the total purchase value column in descending order\n",
    "\n",
    "\n",
    "* Optional: give the displayed data cleaner formatting\n",
    "\n",
    "\n",
    "* Display a preview of the summary data frame\n",
    "\n"
   ]
  },
  {
   "cell_type": "code",
   "execution_count": 9,
   "metadata": {},
   "outputs": [
    {
     "data": {
      "text/html": [
       "<style  type=\"text/css\" >\n",
       "</style><table id=\"T_72e1fa3c_35de_11eb_bafc_00d861c6eed9\" ><thead>    <tr>        <th class=\"blank level0\" ></th>        <th class=\"col_heading level0 col0\" >Purchase Count</th>        <th class=\"col_heading level0 col1\" >Average Purchase Price</th>        <th class=\"col_heading level0 col2\" >Total Purchase Value</th>    </tr>    <tr>        <th class=\"index_name level0\" >SN</th>        <th class=\"blank\" ></th>        <th class=\"blank\" ></th>        <th class=\"blank\" ></th>    </tr></thead><tbody>\n",
       "                <tr>\n",
       "                        <th id=\"T_72e1fa3c_35de_11eb_bafc_00d861c6eed9level0_row0\" class=\"row_heading level0 row0\" >Lisosia93</th>\n",
       "                        <td id=\"T_72e1fa3c_35de_11eb_bafc_00d861c6eed9row0_col0\" class=\"data row0 col0\" >5</td>\n",
       "                        <td id=\"T_72e1fa3c_35de_11eb_bafc_00d861c6eed9row0_col1\" class=\"data row0 col1\" >$3.79</td>\n",
       "                        <td id=\"T_72e1fa3c_35de_11eb_bafc_00d861c6eed9row0_col2\" class=\"data row0 col2\" >$18.96</td>\n",
       "            </tr>\n",
       "            <tr>\n",
       "                        <th id=\"T_72e1fa3c_35de_11eb_bafc_00d861c6eed9level0_row1\" class=\"row_heading level0 row1\" >Idastidru52</th>\n",
       "                        <td id=\"T_72e1fa3c_35de_11eb_bafc_00d861c6eed9row1_col0\" class=\"data row1 col0\" >4</td>\n",
       "                        <td id=\"T_72e1fa3c_35de_11eb_bafc_00d861c6eed9row1_col1\" class=\"data row1 col1\" >$3.86</td>\n",
       "                        <td id=\"T_72e1fa3c_35de_11eb_bafc_00d861c6eed9row1_col2\" class=\"data row1 col2\" >$15.45</td>\n",
       "            </tr>\n",
       "            <tr>\n",
       "                        <th id=\"T_72e1fa3c_35de_11eb_bafc_00d861c6eed9level0_row2\" class=\"row_heading level0 row2\" >Chamjask73</th>\n",
       "                        <td id=\"T_72e1fa3c_35de_11eb_bafc_00d861c6eed9row2_col0\" class=\"data row2 col0\" >3</td>\n",
       "                        <td id=\"T_72e1fa3c_35de_11eb_bafc_00d861c6eed9row2_col1\" class=\"data row2 col1\" >$4.61</td>\n",
       "                        <td id=\"T_72e1fa3c_35de_11eb_bafc_00d861c6eed9row2_col2\" class=\"data row2 col2\" >$13.83</td>\n",
       "            </tr>\n",
       "            <tr>\n",
       "                        <th id=\"T_72e1fa3c_35de_11eb_bafc_00d861c6eed9level0_row3\" class=\"row_heading level0 row3\" >Iral74</th>\n",
       "                        <td id=\"T_72e1fa3c_35de_11eb_bafc_00d861c6eed9row3_col0\" class=\"data row3 col0\" >4</td>\n",
       "                        <td id=\"T_72e1fa3c_35de_11eb_bafc_00d861c6eed9row3_col1\" class=\"data row3 col1\" >$3.40</td>\n",
       "                        <td id=\"T_72e1fa3c_35de_11eb_bafc_00d861c6eed9row3_col2\" class=\"data row3 col2\" >$13.62</td>\n",
       "            </tr>\n",
       "            <tr>\n",
       "                        <th id=\"T_72e1fa3c_35de_11eb_bafc_00d861c6eed9level0_row4\" class=\"row_heading level0 row4\" >Iskadarya95</th>\n",
       "                        <td id=\"T_72e1fa3c_35de_11eb_bafc_00d861c6eed9row4_col0\" class=\"data row4 col0\" >3</td>\n",
       "                        <td id=\"T_72e1fa3c_35de_11eb_bafc_00d861c6eed9row4_col1\" class=\"data row4 col1\" >$4.37</td>\n",
       "                        <td id=\"T_72e1fa3c_35de_11eb_bafc_00d861c6eed9row4_col2\" class=\"data row4 col2\" >$13.10</td>\n",
       "            </tr>\n",
       "            <tr>\n",
       "                        <th id=\"T_72e1fa3c_35de_11eb_bafc_00d861c6eed9level0_row5\" class=\"row_heading level0 row5\" >Ilarin91</th>\n",
       "                        <td id=\"T_72e1fa3c_35de_11eb_bafc_00d861c6eed9row5_col0\" class=\"data row5 col0\" >3</td>\n",
       "                        <td id=\"T_72e1fa3c_35de_11eb_bafc_00d861c6eed9row5_col1\" class=\"data row5 col1\" >$4.23</td>\n",
       "                        <td id=\"T_72e1fa3c_35de_11eb_bafc_00d861c6eed9row5_col2\" class=\"data row5 col2\" >$12.70</td>\n",
       "            </tr>\n",
       "            <tr>\n",
       "                        <th id=\"T_72e1fa3c_35de_11eb_bafc_00d861c6eed9level0_row6\" class=\"row_heading level0 row6\" >Ialallo29</th>\n",
       "                        <td id=\"T_72e1fa3c_35de_11eb_bafc_00d861c6eed9row6_col0\" class=\"data row6 col0\" >3</td>\n",
       "                        <td id=\"T_72e1fa3c_35de_11eb_bafc_00d861c6eed9row6_col1\" class=\"data row6 col1\" >$3.95</td>\n",
       "                        <td id=\"T_72e1fa3c_35de_11eb_bafc_00d861c6eed9row6_col2\" class=\"data row6 col2\" >$11.84</td>\n",
       "            </tr>\n",
       "            <tr>\n",
       "                        <th id=\"T_72e1fa3c_35de_11eb_bafc_00d861c6eed9level0_row7\" class=\"row_heading level0 row7\" >Tyidaim51</th>\n",
       "                        <td id=\"T_72e1fa3c_35de_11eb_bafc_00d861c6eed9row7_col0\" class=\"data row7 col0\" >3</td>\n",
       "                        <td id=\"T_72e1fa3c_35de_11eb_bafc_00d861c6eed9row7_col1\" class=\"data row7 col1\" >$3.94</td>\n",
       "                        <td id=\"T_72e1fa3c_35de_11eb_bafc_00d861c6eed9row7_col2\" class=\"data row7 col2\" >$11.83</td>\n",
       "            </tr>\n",
       "            <tr>\n",
       "                        <th id=\"T_72e1fa3c_35de_11eb_bafc_00d861c6eed9level0_row8\" class=\"row_heading level0 row8\" >Lassilsala30</th>\n",
       "                        <td id=\"T_72e1fa3c_35de_11eb_bafc_00d861c6eed9row8_col0\" class=\"data row8 col0\" >3</td>\n",
       "                        <td id=\"T_72e1fa3c_35de_11eb_bafc_00d861c6eed9row8_col1\" class=\"data row8 col1\" >$3.84</td>\n",
       "                        <td id=\"T_72e1fa3c_35de_11eb_bafc_00d861c6eed9row8_col2\" class=\"data row8 col2\" >$11.51</td>\n",
       "            </tr>\n",
       "            <tr>\n",
       "                        <th id=\"T_72e1fa3c_35de_11eb_bafc_00d861c6eed9level0_row9\" class=\"row_heading level0 row9\" >Chadolyla44</th>\n",
       "                        <td id=\"T_72e1fa3c_35de_11eb_bafc_00d861c6eed9row9_col0\" class=\"data row9 col0\" >3</td>\n",
       "                        <td id=\"T_72e1fa3c_35de_11eb_bafc_00d861c6eed9row9_col1\" class=\"data row9 col1\" >$3.82</td>\n",
       "                        <td id=\"T_72e1fa3c_35de_11eb_bafc_00d861c6eed9row9_col2\" class=\"data row9 col2\" >$11.46</td>\n",
       "            </tr>\n",
       "    </tbody></table>"
      ],
      "text/plain": [
       "<pandas.io.formats.style.Styler at 0x213fa8f8610>"
      ]
     },
     "execution_count": 9,
     "metadata": {},
     "output_type": "execute_result"
    }
   ],
   "source": [
    "sn_group = purchase_data.groupby(\"SN\")\n",
    "sn_purchase = sn_group[\"Age\"].count()\n",
    "sn_avg_pur = sn_group[\"Price\"].mean()\n",
    "sn_tot_pur = sn_group[\"Price\"].sum()\n",
    "# Create Top Spender DataFrame\n",
    "top_spender_df = pd.DataFrame({\"Purchase Count\": sn_purchase,\n",
    "                              \"Average Purchase Price\": sn_avg_pur,\n",
    "                              \"Total Purchase Value\": sn_tot_pur})\n",
    "# Sort by Total Purchase Value descending\n",
    "top_spender_df = top_spender_df.sort_values(\"Total Purchase Value\", ascending=False)\n",
    "# Format data to display currency\n",
    "top_spender_df.head(10).style.format({\"Average Purchase Price\":\"${:.2f}\",\n",
    "                            \"Total Purchase Value\": \"${:.2f}\"})"
   ]
  },
  {
   "cell_type": "markdown",
   "metadata": {},
   "source": [
    "## Most Popular Items"
   ]
  },
  {
   "cell_type": "markdown",
   "metadata": {},
   "source": [
    "* Retrieve the Item ID, Item Name, and Item Price columns\n",
    "\n",
    "\n",
    "* Group by Item ID and Item Name. Perform calculations to obtain purchase count, average item price, and total purchase value\n",
    "\n",
    "\n",
    "* Create a summary data frame to hold the results\n",
    "\n",
    "\n",
    "* Sort the purchase count column in descending order\n",
    "\n",
    "\n",
    "* Optional: give the displayed data cleaner formatting\n",
    "\n",
    "\n",
    "* Display a preview of the summary data frame\n",
    "\n"
   ]
  },
  {
   "cell_type": "code",
   "execution_count": 13,
   "metadata": {},
   "outputs": [
    {
     "data": {
      "text/html": [
       "<style  type=\"text/css\" >\n",
       "</style><table id=\"T_b2c64c19_35df_11eb_888a_00d861c6eed9\" ><thead>    <tr>        <th class=\"blank\" ></th>        <th class=\"blank level0\" ></th>        <th class=\"col_heading level0 col0\" >Purchase Count</th>        <th class=\"col_heading level0 col1\" >Average Purchase Price</th>        <th class=\"col_heading level0 col2\" >Total Purchase Value</th>    </tr>    <tr>        <th class=\"index_name level0\" >Item ID</th>        <th class=\"index_name level1\" >Item Name</th>        <th class=\"blank\" ></th>        <th class=\"blank\" ></th>        <th class=\"blank\" ></th>    </tr></thead><tbody>\n",
       "                <tr>\n",
       "                        <th id=\"T_b2c64c19_35df_11eb_888a_00d861c6eed9level0_row0\" class=\"row_heading level0 row0\" >92</th>\n",
       "                        <th id=\"T_b2c64c19_35df_11eb_888a_00d861c6eed9level1_row0\" class=\"row_heading level1 row0\" >Final Critic</th>\n",
       "                        <td id=\"T_b2c64c19_35df_11eb_888a_00d861c6eed9row0_col0\" class=\"data row0 col0\" >13</td>\n",
       "                        <td id=\"T_b2c64c19_35df_11eb_888a_00d861c6eed9row0_col1\" class=\"data row0 col1\" >$4.61</td>\n",
       "                        <td id=\"T_b2c64c19_35df_11eb_888a_00d861c6eed9row0_col2\" class=\"data row0 col2\" >$59.99</td>\n",
       "            </tr>\n",
       "            <tr>\n",
       "                        <th id=\"T_b2c64c19_35df_11eb_888a_00d861c6eed9level0_row1\" class=\"row_heading level0 row1\" >178</th>\n",
       "                        <th id=\"T_b2c64c19_35df_11eb_888a_00d861c6eed9level1_row1\" class=\"row_heading level1 row1\" >Oathbreaker, Last Hope of the Breaking Storm</th>\n",
       "                        <td id=\"T_b2c64c19_35df_11eb_888a_00d861c6eed9row1_col0\" class=\"data row1 col0\" >12</td>\n",
       "                        <td id=\"T_b2c64c19_35df_11eb_888a_00d861c6eed9row1_col1\" class=\"data row1 col1\" >$4.23</td>\n",
       "                        <td id=\"T_b2c64c19_35df_11eb_888a_00d861c6eed9row1_col2\" class=\"data row1 col2\" >$50.76</td>\n",
       "            </tr>\n",
       "            <tr>\n",
       "                        <th id=\"T_b2c64c19_35df_11eb_888a_00d861c6eed9level0_row2\" class=\"row_heading level0 row2\" >145</th>\n",
       "                        <th id=\"T_b2c64c19_35df_11eb_888a_00d861c6eed9level1_row2\" class=\"row_heading level1 row2\" >Fiery Glass Crusader</th>\n",
       "                        <td id=\"T_b2c64c19_35df_11eb_888a_00d861c6eed9row2_col0\" class=\"data row2 col0\" >9</td>\n",
       "                        <td id=\"T_b2c64c19_35df_11eb_888a_00d861c6eed9row2_col1\" class=\"data row2 col1\" >$4.58</td>\n",
       "                        <td id=\"T_b2c64c19_35df_11eb_888a_00d861c6eed9row2_col2\" class=\"data row2 col2\" >$41.22</td>\n",
       "            </tr>\n",
       "            <tr>\n",
       "                        <th id=\"T_b2c64c19_35df_11eb_888a_00d861c6eed9level0_row3\" class=\"row_heading level0 row3\" >132</th>\n",
       "                        <th id=\"T_b2c64c19_35df_11eb_888a_00d861c6eed9level1_row3\" class=\"row_heading level1 row3\" >Persuasion</th>\n",
       "                        <td id=\"T_b2c64c19_35df_11eb_888a_00d861c6eed9row3_col0\" class=\"data row3 col0\" >9</td>\n",
       "                        <td id=\"T_b2c64c19_35df_11eb_888a_00d861c6eed9row3_col1\" class=\"data row3 col1\" >$3.22</td>\n",
       "                        <td id=\"T_b2c64c19_35df_11eb_888a_00d861c6eed9row3_col2\" class=\"data row3 col2\" >$28.99</td>\n",
       "            </tr>\n",
       "            <tr>\n",
       "                        <th id=\"T_b2c64c19_35df_11eb_888a_00d861c6eed9level0_row4\" class=\"row_heading level0 row4\" >108</th>\n",
       "                        <th id=\"T_b2c64c19_35df_11eb_888a_00d861c6eed9level1_row4\" class=\"row_heading level1 row4\" >Extraction, Quickblade Of Trembling Hands</th>\n",
       "                        <td id=\"T_b2c64c19_35df_11eb_888a_00d861c6eed9row4_col0\" class=\"data row4 col0\" >9</td>\n",
       "                        <td id=\"T_b2c64c19_35df_11eb_888a_00d861c6eed9row4_col1\" class=\"data row4 col1\" >$3.53</td>\n",
       "                        <td id=\"T_b2c64c19_35df_11eb_888a_00d861c6eed9row4_col2\" class=\"data row4 col2\" >$31.77</td>\n",
       "            </tr>\n",
       "            <tr>\n",
       "                        <th id=\"T_b2c64c19_35df_11eb_888a_00d861c6eed9level0_row5\" class=\"row_heading level0 row5\" >82</th>\n",
       "                        <th id=\"T_b2c64c19_35df_11eb_888a_00d861c6eed9level1_row5\" class=\"row_heading level1 row5\" >Nirvana</th>\n",
       "                        <td id=\"T_b2c64c19_35df_11eb_888a_00d861c6eed9row5_col0\" class=\"data row5 col0\" >9</td>\n",
       "                        <td id=\"T_b2c64c19_35df_11eb_888a_00d861c6eed9row5_col1\" class=\"data row5 col1\" >$4.90</td>\n",
       "                        <td id=\"T_b2c64c19_35df_11eb_888a_00d861c6eed9row5_col2\" class=\"data row5 col2\" >$44.10</td>\n",
       "            </tr>\n",
       "            <tr>\n",
       "                        <th id=\"T_b2c64c19_35df_11eb_888a_00d861c6eed9level0_row6\" class=\"row_heading level0 row6\" >75</th>\n",
       "                        <th id=\"T_b2c64c19_35df_11eb_888a_00d861c6eed9level1_row6\" class=\"row_heading level1 row6\" >Brutality Ivory Warmace</th>\n",
       "                        <td id=\"T_b2c64c19_35df_11eb_888a_00d861c6eed9row6_col0\" class=\"data row6 col0\" >8</td>\n",
       "                        <td id=\"T_b2c64c19_35df_11eb_888a_00d861c6eed9row6_col1\" class=\"data row6 col1\" >$2.42</td>\n",
       "                        <td id=\"T_b2c64c19_35df_11eb_888a_00d861c6eed9row6_col2\" class=\"data row6 col2\" >$19.36</td>\n",
       "            </tr>\n",
       "            <tr>\n",
       "                        <th id=\"T_b2c64c19_35df_11eb_888a_00d861c6eed9level0_row7\" class=\"row_heading level0 row7\" >103</th>\n",
       "                        <th id=\"T_b2c64c19_35df_11eb_888a_00d861c6eed9level1_row7\" class=\"row_heading level1 row7\" >Singed Scalpel</th>\n",
       "                        <td id=\"T_b2c64c19_35df_11eb_888a_00d861c6eed9row7_col0\" class=\"data row7 col0\" >8</td>\n",
       "                        <td id=\"T_b2c64c19_35df_11eb_888a_00d861c6eed9row7_col1\" class=\"data row7 col1\" >$4.35</td>\n",
       "                        <td id=\"T_b2c64c19_35df_11eb_888a_00d861c6eed9row7_col2\" class=\"data row7 col2\" >$34.80</td>\n",
       "            </tr>\n",
       "            <tr>\n",
       "                        <th id=\"T_b2c64c19_35df_11eb_888a_00d861c6eed9level0_row8\" class=\"row_heading level0 row8\" >34</th>\n",
       "                        <th id=\"T_b2c64c19_35df_11eb_888a_00d861c6eed9level1_row8\" class=\"row_heading level1 row8\" >Retribution Axe</th>\n",
       "                        <td id=\"T_b2c64c19_35df_11eb_888a_00d861c6eed9row8_col0\" class=\"data row8 col0\" >8</td>\n",
       "                        <td id=\"T_b2c64c19_35df_11eb_888a_00d861c6eed9row8_col1\" class=\"data row8 col1\" >$2.22</td>\n",
       "                        <td id=\"T_b2c64c19_35df_11eb_888a_00d861c6eed9row8_col2\" class=\"data row8 col2\" >$17.76</td>\n",
       "            </tr>\n",
       "            <tr>\n",
       "                        <th id=\"T_b2c64c19_35df_11eb_888a_00d861c6eed9level0_row9\" class=\"row_heading level0 row9\" >37</th>\n",
       "                        <th id=\"T_b2c64c19_35df_11eb_888a_00d861c6eed9level1_row9\" class=\"row_heading level1 row9\" >Shadow Strike, Glory of Ending Hope</th>\n",
       "                        <td id=\"T_b2c64c19_35df_11eb_888a_00d861c6eed9row9_col0\" class=\"data row9 col0\" >8</td>\n",
       "                        <td id=\"T_b2c64c19_35df_11eb_888a_00d861c6eed9row9_col1\" class=\"data row9 col1\" >$3.16</td>\n",
       "                        <td id=\"T_b2c64c19_35df_11eb_888a_00d861c6eed9row9_col2\" class=\"data row9 col2\" >$25.28</td>\n",
       "            </tr>\n",
       "    </tbody></table>"
      ],
      "text/plain": [
       "<pandas.io.formats.style.Styler at 0x213fa8e8850>"
      ]
     },
     "execution_count": 13,
     "metadata": {},
     "output_type": "execute_result"
    }
   ],
   "source": [
    "# Retrieve columns\n",
    "pop_df = purchase_data.loc[:,[\"Item ID\", \"Item Name\", \"Price\"]]\n",
    "# Group by Item ID and Item Name\n",
    "pop_group = purchase_data.groupby([\"Item ID\", \"Item Name\"])\n",
    "pop_purchase = pop_group[\"Age\"].count()\n",
    "pop_avg_pur = pop_group[\"Price\"].mean()\n",
    "pop_tot_pur = pop_group[\"Price\"].sum()\n",
    "# Create Most Popular DataFrame\n",
    "most_pop_df = pd.DataFrame({\"Purchase Count\": pop_purchase,\n",
    "                           \"Average Purchase Price\": pop_avg_pur,\n",
    "                           \"Total Purchase Value\": pop_tot_pur})\n",
    "# Sort by Purchase Counts descending\n",
    "most_pop_df = most_pop_df.sort_values(\"Purchase Count\", ascending=False)\n",
    "# Format data to display currency\n",
    "most_pop_df.head(10).style.format({\"Average Purchase Price\":\"${:.2f}\",\n",
    "                            \"Total Purchase Value\": \"${:.2f}\"})"
   ]
  },
  {
   "cell_type": "markdown",
   "metadata": {},
   "source": [
    "## Most Profitable Items"
   ]
  },
  {
   "cell_type": "markdown",
   "metadata": {},
   "source": [
    "* Sort the above table by total purchase value in descending order\n",
    "\n",
    "\n",
    "* Optional: give the displayed data cleaner formatting\n",
    "\n",
    "\n",
    "* Display a preview of the data frame\n",
    "\n"
   ]
  },
  {
   "cell_type": "code",
   "execution_count": 11,
   "metadata": {
    "scrolled": true
   },
   "outputs": [
    {
     "data": {
      "text/html": [
       "<style  type=\"text/css\" >\n",
       "</style><table id=\"T_77a3e9ce_35de_11eb_be02_00d861c6eed9\" ><thead>    <tr>        <th class=\"blank\" ></th>        <th class=\"blank level0\" ></th>        <th class=\"col_heading level0 col0\" >Purchase Count</th>        <th class=\"col_heading level0 col1\" >Average Purchase Price</th>        <th class=\"col_heading level0 col2\" >Total Purchase Value</th>    </tr>    <tr>        <th class=\"index_name level0\" >Item ID</th>        <th class=\"index_name level1\" >Item Name</th>        <th class=\"blank\" ></th>        <th class=\"blank\" ></th>        <th class=\"blank\" ></th>    </tr></thead><tbody>\n",
       "                <tr>\n",
       "                        <th id=\"T_77a3e9ce_35de_11eb_be02_00d861c6eed9level0_row0\" class=\"row_heading level0 row0\" >92</th>\n",
       "                        <th id=\"T_77a3e9ce_35de_11eb_be02_00d861c6eed9level1_row0\" class=\"row_heading level1 row0\" >Final Critic</th>\n",
       "                        <td id=\"T_77a3e9ce_35de_11eb_be02_00d861c6eed9row0_col0\" class=\"data row0 col0\" >13</td>\n",
       "                        <td id=\"T_77a3e9ce_35de_11eb_be02_00d861c6eed9row0_col1\" class=\"data row0 col1\" >$4.61</td>\n",
       "                        <td id=\"T_77a3e9ce_35de_11eb_be02_00d861c6eed9row0_col2\" class=\"data row0 col2\" >$59.99</td>\n",
       "            </tr>\n",
       "            <tr>\n",
       "                        <th id=\"T_77a3e9ce_35de_11eb_be02_00d861c6eed9level0_row1\" class=\"row_heading level0 row1\" >178</th>\n",
       "                        <th id=\"T_77a3e9ce_35de_11eb_be02_00d861c6eed9level1_row1\" class=\"row_heading level1 row1\" >Oathbreaker, Last Hope of the Breaking Storm</th>\n",
       "                        <td id=\"T_77a3e9ce_35de_11eb_be02_00d861c6eed9row1_col0\" class=\"data row1 col0\" >12</td>\n",
       "                        <td id=\"T_77a3e9ce_35de_11eb_be02_00d861c6eed9row1_col1\" class=\"data row1 col1\" >$4.23</td>\n",
       "                        <td id=\"T_77a3e9ce_35de_11eb_be02_00d861c6eed9row1_col2\" class=\"data row1 col2\" >$50.76</td>\n",
       "            </tr>\n",
       "            <tr>\n",
       "                        <th id=\"T_77a3e9ce_35de_11eb_be02_00d861c6eed9level0_row2\" class=\"row_heading level0 row2\" >82</th>\n",
       "                        <th id=\"T_77a3e9ce_35de_11eb_be02_00d861c6eed9level1_row2\" class=\"row_heading level1 row2\" >Nirvana</th>\n",
       "                        <td id=\"T_77a3e9ce_35de_11eb_be02_00d861c6eed9row2_col0\" class=\"data row2 col0\" >9</td>\n",
       "                        <td id=\"T_77a3e9ce_35de_11eb_be02_00d861c6eed9row2_col1\" class=\"data row2 col1\" >$4.90</td>\n",
       "                        <td id=\"T_77a3e9ce_35de_11eb_be02_00d861c6eed9row2_col2\" class=\"data row2 col2\" >$44.10</td>\n",
       "            </tr>\n",
       "            <tr>\n",
       "                        <th id=\"T_77a3e9ce_35de_11eb_be02_00d861c6eed9level0_row3\" class=\"row_heading level0 row3\" >145</th>\n",
       "                        <th id=\"T_77a3e9ce_35de_11eb_be02_00d861c6eed9level1_row3\" class=\"row_heading level1 row3\" >Fiery Glass Crusader</th>\n",
       "                        <td id=\"T_77a3e9ce_35de_11eb_be02_00d861c6eed9row3_col0\" class=\"data row3 col0\" >9</td>\n",
       "                        <td id=\"T_77a3e9ce_35de_11eb_be02_00d861c6eed9row3_col1\" class=\"data row3 col1\" >$4.58</td>\n",
       "                        <td id=\"T_77a3e9ce_35de_11eb_be02_00d861c6eed9row3_col2\" class=\"data row3 col2\" >$41.22</td>\n",
       "            </tr>\n",
       "            <tr>\n",
       "                        <th id=\"T_77a3e9ce_35de_11eb_be02_00d861c6eed9level0_row4\" class=\"row_heading level0 row4\" >103</th>\n",
       "                        <th id=\"T_77a3e9ce_35de_11eb_be02_00d861c6eed9level1_row4\" class=\"row_heading level1 row4\" >Singed Scalpel</th>\n",
       "                        <td id=\"T_77a3e9ce_35de_11eb_be02_00d861c6eed9row4_col0\" class=\"data row4 col0\" >8</td>\n",
       "                        <td id=\"T_77a3e9ce_35de_11eb_be02_00d861c6eed9row4_col1\" class=\"data row4 col1\" >$4.35</td>\n",
       "                        <td id=\"T_77a3e9ce_35de_11eb_be02_00d861c6eed9row4_col2\" class=\"data row4 col2\" >$34.80</td>\n",
       "            </tr>\n",
       "            <tr>\n",
       "                        <th id=\"T_77a3e9ce_35de_11eb_be02_00d861c6eed9level0_row5\" class=\"row_heading level0 row5\" >59</th>\n",
       "                        <th id=\"T_77a3e9ce_35de_11eb_be02_00d861c6eed9level1_row5\" class=\"row_heading level1 row5\" >Lightning, Etcher of the King</th>\n",
       "                        <td id=\"T_77a3e9ce_35de_11eb_be02_00d861c6eed9row5_col0\" class=\"data row5 col0\" >8</td>\n",
       "                        <td id=\"T_77a3e9ce_35de_11eb_be02_00d861c6eed9row5_col1\" class=\"data row5 col1\" >$4.23</td>\n",
       "                        <td id=\"T_77a3e9ce_35de_11eb_be02_00d861c6eed9row5_col2\" class=\"data row5 col2\" >$33.84</td>\n",
       "            </tr>\n",
       "            <tr>\n",
       "                        <th id=\"T_77a3e9ce_35de_11eb_be02_00d861c6eed9level0_row6\" class=\"row_heading level0 row6\" >108</th>\n",
       "                        <th id=\"T_77a3e9ce_35de_11eb_be02_00d861c6eed9level1_row6\" class=\"row_heading level1 row6\" >Extraction, Quickblade Of Trembling Hands</th>\n",
       "                        <td id=\"T_77a3e9ce_35de_11eb_be02_00d861c6eed9row6_col0\" class=\"data row6 col0\" >9</td>\n",
       "                        <td id=\"T_77a3e9ce_35de_11eb_be02_00d861c6eed9row6_col1\" class=\"data row6 col1\" >$3.53</td>\n",
       "                        <td id=\"T_77a3e9ce_35de_11eb_be02_00d861c6eed9row6_col2\" class=\"data row6 col2\" >$31.77</td>\n",
       "            </tr>\n",
       "            <tr>\n",
       "                        <th id=\"T_77a3e9ce_35de_11eb_be02_00d861c6eed9level0_row7\" class=\"row_heading level0 row7\" >78</th>\n",
       "                        <th id=\"T_77a3e9ce_35de_11eb_be02_00d861c6eed9level1_row7\" class=\"row_heading level1 row7\" >Glimmer, Ender of the Moon</th>\n",
       "                        <td id=\"T_77a3e9ce_35de_11eb_be02_00d861c6eed9row7_col0\" class=\"data row7 col0\" >7</td>\n",
       "                        <td id=\"T_77a3e9ce_35de_11eb_be02_00d861c6eed9row7_col1\" class=\"data row7 col1\" >$4.40</td>\n",
       "                        <td id=\"T_77a3e9ce_35de_11eb_be02_00d861c6eed9row7_col2\" class=\"data row7 col2\" >$30.80</td>\n",
       "            </tr>\n",
       "            <tr>\n",
       "                        <th id=\"T_77a3e9ce_35de_11eb_be02_00d861c6eed9level0_row8\" class=\"row_heading level0 row8\" >72</th>\n",
       "                        <th id=\"T_77a3e9ce_35de_11eb_be02_00d861c6eed9level1_row8\" class=\"row_heading level1 row8\" >Winter's Bite</th>\n",
       "                        <td id=\"T_77a3e9ce_35de_11eb_be02_00d861c6eed9row8_col0\" class=\"data row8 col0\" >8</td>\n",
       "                        <td id=\"T_77a3e9ce_35de_11eb_be02_00d861c6eed9row8_col1\" class=\"data row8 col1\" >$3.77</td>\n",
       "                        <td id=\"T_77a3e9ce_35de_11eb_be02_00d861c6eed9row8_col2\" class=\"data row8 col2\" >$30.16</td>\n",
       "            </tr>\n",
       "            <tr>\n",
       "                        <th id=\"T_77a3e9ce_35de_11eb_be02_00d861c6eed9level0_row9\" class=\"row_heading level0 row9\" >132</th>\n",
       "                        <th id=\"T_77a3e9ce_35de_11eb_be02_00d861c6eed9level1_row9\" class=\"row_heading level1 row9\" >Persuasion</th>\n",
       "                        <td id=\"T_77a3e9ce_35de_11eb_be02_00d861c6eed9row9_col0\" class=\"data row9 col0\" >9</td>\n",
       "                        <td id=\"T_77a3e9ce_35de_11eb_be02_00d861c6eed9row9_col1\" class=\"data row9 col1\" >$3.22</td>\n",
       "                        <td id=\"T_77a3e9ce_35de_11eb_be02_00d861c6eed9row9_col2\" class=\"data row9 col2\" >$28.99</td>\n",
       "            </tr>\n",
       "    </tbody></table>"
      ],
      "text/plain": [
       "<pandas.io.formats.style.Styler at 0x213fa9074c0>"
      ]
     },
     "execution_count": 11,
     "metadata": {},
     "output_type": "execute_result"
    }
   ],
   "source": [
    "most_prof_df = most_pop_df.sort_values(\"Total Purchase Value\", ascending=False)\n",
    "most_prof_df.head(10).style.format({\"Average Purchase Price\":\"${:.2f}\",\n",
    "                            \"Total Purchase Value\": \"${:.2f}\"})"
   ]
  },
  {
   "cell_type": "code",
   "execution_count": null,
   "metadata": {},
   "outputs": [],
   "source": []
  }
 ],
 "metadata": {
  "anaconda-cloud": {},
  "kernel_info": {
   "name": "python3"
  },
  "kernelspec": {
   "display_name": "Python 3",
   "language": "python",
   "name": "python3"
  },
  "language_info": {
   "codemirror_mode": {
    "name": "ipython",
    "version": 3
   },
   "file_extension": ".py",
   "mimetype": "text/x-python",
   "name": "python",
   "nbconvert_exporter": "python",
   "pygments_lexer": "ipython3",
   "version": "3.8.3"
  },
  "latex_envs": {
   "LaTeX_envs_menu_present": true,
   "autoclose": false,
   "autocomplete": true,
   "bibliofile": "biblio.bib",
   "cite_by": "apalike",
   "current_citInitial": 1,
   "eqLabelWithNumbers": true,
   "eqNumInitial": 1,
   "hotkeys": {
    "equation": "Ctrl-E",
    "itemize": "Ctrl-I"
   },
   "labels_anchors": false,
   "latex_user_defs": false,
   "report_style_numbering": false,
   "user_envs_cfg": false
  },
  "nteract": {
   "version": "0.2.0"
  }
 },
 "nbformat": 4,
 "nbformat_minor": 2
}
